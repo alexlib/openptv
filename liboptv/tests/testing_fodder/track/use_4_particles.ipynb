{
 "cells": [
  {
   "cell_type": "code",
   "execution_count": 96,
   "metadata": {
    "collapsed": true
   },
   "outputs": [],
   "source": [
    "import numpy as np\n",
    "from glob import glob"
   ]
  },
  {
   "cell_type": "code",
   "execution_count": 97,
   "metadata": {
    "collapsed": false
   },
   "outputs": [],
   "source": [
    "files = glob('img/cam*.1000?_targets')"
   ]
  },
  {
   "cell_type": "code",
   "execution_count": 98,
   "metadata": {
    "collapsed": false
   },
   "outputs": [],
   "source": [
    "for f in files:\n",
    "    d = np.loadtxt(f,skiprows=1)\n",
    "    a = d[d[:,-1]>=0,:]        # remove -1\n",
    "    a = a[a[:,-1].argsort(),:] # sort the rest\n",
    "    a[:4,0] = range(1,5)\n",
    "    a = a[:4,:]\n",
    "    np.savetxt(f.replace('1000','2000'),a[:4,],fmt='%4d %9.4f %9.4f %5d %5d %5d %5d %5d',delimiter='\\\\t',header=str(4),comments='')"
   ]
  }
 ],
 "metadata": {
  "anaconda-cloud": {},
  "kernelspec": {
   "display_name": "Python [Root]",
   "language": "python",
   "name": "Python [Root]"
  },
  "language_info": {
   "codemirror_mode": {
    "name": "ipython",
    "version": 2
   },
   "file_extension": ".py",
   "mimetype": "text/x-python",
   "name": "python",
   "nbconvert_exporter": "python",
   "pygments_lexer": "ipython2",
   "version": "2.7.12"
  }
 },
 "nbformat": 4,
 "nbformat_minor": 0
}
